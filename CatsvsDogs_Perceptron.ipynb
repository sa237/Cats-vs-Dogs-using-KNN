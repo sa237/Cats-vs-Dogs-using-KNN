{
  "nbformat": 4,
  "nbformat_minor": 0,
  "metadata": {
    "colab": {
      "name": "CatsvsDogs_Perceptron.ipynb",
      "provenance": [],
      "collapsed_sections": []
    },
    "kernelspec": {
      "name": "python3",
      "display_name": "Python 3"
    }
  },
  "cells": [
    {
      "cell_type": "code",
      "metadata": {
        "id": "TlLNMmzf3v-V",
        "colab": {
          "base_uri": "https://localhost:8080/",
          "height": 34
        },
        "outputId": "635e842e-6953-47f2-e795-8d864d517974"
      },
      "source": [
        "import os\n",
        "import numpy as np\n",
        "import matplotlib.pyplot as plt\n",
        "import cv2\n",
        "from google.colab import drive\n",
        "\n",
        "# Accessing My Google Drive\n",
        "drive.mount('/content/drive')\n",
        "\n",
        "\n"
      ],
      "execution_count": null,
      "outputs": [
        {
          "output_type": "stream",
          "text": [
            "Drive already mounted at /content/drive; to attempt to forcibly remount, call drive.mount(\"/content/drive\", force_remount=True).\n"
          ],
          "name": "stdout"
        }
      ]
    },
    {
      "cell_type": "code",
      "metadata": {
        "id": "D71jA2QW4VVI"
      },
      "source": [
        "# defining global variable path\n",
        "# Location of my dataset on My Google Drive\n",
        "import tensorflow as tf\n",
        "\n",
        "def loadTrainImages(path):\n",
        "    train_files = sorted([os.path.join(path, 'trainingset', file)\n",
        "                          for file in os.listdir(path + \"/trainingset\")\n",
        "                          if file.endswith('.jpg')])\n",
        "    return train_files\n",
        "def loadTestImages(path):\n",
        "    test_files = sorted([os.path.join(path, 'testset', file)\n",
        "                          for file in os.listdir(path + \"/testset\")\n",
        "                          if file.endswith('.jpg')])\n",
        "    return test_files\n",
        "\n",
        "\n",
        "\n",
        "\n"
      ],
      "execution_count": null,
      "outputs": []
    },
    {
      "cell_type": "code",
      "metadata": {
        "id": "lV7WVvVxfjZd"
      },
      "source": [
        "\n",
        "# Preprocessing of the image data\n",
        "def processing(data):\n",
        "    \n",
        "    # Reading images to work\n",
        "    img = [cv2.imread(i, cv2.COLOR_BAYER_BG2GRAY) for i in data]\n",
        "    print('Original size',img[0].shape)\n",
        "    \n",
        "    # setting dimension of the resize\n",
        "    height = 50\n",
        "    width = 50\n",
        "    dim = (width, height)\n",
        "    res_img = []\n",
        "    for i in range(len(img)):\n",
        "        res = cv2.resize(img[i], dim, interpolation=cv2.INTER_LINEAR)\n",
        "        res = tf.keras.preprocessing.image.img_to_array(res)\n",
        "        res = res/255\n",
        "        res_img.append(res)\n",
        "    \n",
        "  \n",
        "\n",
        "    # Checking the size\n",
        "    print('RESIZED', res_img[1].shape)\n",
        "    print('Length of image list: ',len(res_img))\n",
        "    X = np.array(res_img)\n",
        "    return X\n",
        "    \n",
        "    \n",
        "    \n",
        "    "
      ],
      "execution_count": null,
      "outputs": []
    },
    {
      "cell_type": "code",
      "metadata": {
        "id": "tcosZQW83_g7",
        "colab": {
          "base_uri": "https://localhost:8080/",
          "height": 238
        },
        "outputId": "61b11fc3-bdfc-4349-9ec5-10174dfbb942"
      },
      "source": [
        "def main():\n",
        "    # calling global variable\n",
        "    global image_path\n",
        "    global X_training\n",
        "    global X_testing\n",
        "    '''The var Dataset is a list with all images in the folder '''\n",
        "    X_train = loadTrainImages('./Dataset/Trainingset/')\n",
        "    X_test = loadTestImages('./Dataset/Testing set/')\n",
        "    print('Number of files in training set: ', len(X_train))\n",
        "    print(\"List of files the first 3 in the folder:\\n\",X_train[:40])\n",
        "    print('Number of files in testing set: ', len(X_test))\n",
        "    print(\"List of files the first 3 in the folder:\\n\",X_test[:6])\n",
        "    \n",
        "    # sending all the images to pre-processing\n",
        "    X_training = processing(X_train)\n",
        "    X_testing = processing(X_test)\n",
        "\n",
        "   \n",
        "main()\n",
        "  "
      ],
      "execution_count": null,
      "outputs": [
        {
          "output_type": "stream",
          "text": [
            "Number of files in training set:  40\n",
            "List of files the first 3 in the folder:\n",
            " ['/content/drive/My Drive/trainingset/Cat (10).jpg', '/content/drive/My Drive/trainingset/Cat (11).jpg', '/content/drive/My Drive/trainingset/Cat (12).jpg', '/content/drive/My Drive/trainingset/Cat (13).jpg', '/content/drive/My Drive/trainingset/Cat (14).jpg', '/content/drive/My Drive/trainingset/Cat (15).jpg', '/content/drive/My Drive/trainingset/Cat (16).jpg', '/content/drive/My Drive/trainingset/Cat (17).jpg', '/content/drive/My Drive/trainingset/Cat (18).jpg', '/content/drive/My Drive/trainingset/Cat (19).jpg', '/content/drive/My Drive/trainingset/Cat (2).jpg', '/content/drive/My Drive/trainingset/Cat (3).jpg', '/content/drive/My Drive/trainingset/Cat (4).jpg', '/content/drive/My Drive/trainingset/Cat (5).jpg', '/content/drive/My Drive/trainingset/Cat (6).jpg', '/content/drive/My Drive/trainingset/Cat (7).jpg', '/content/drive/My Drive/trainingset/Cat (8).jpg', '/content/drive/My Drive/trainingset/Cat (9).jpg', '/content/drive/My Drive/trainingset/Cat.jpg', '/content/drive/My Drive/trainingset/Cat1.jpg', '/content/drive/My Drive/trainingset/dog.1003.jpg', '/content/drive/My Drive/trainingset/dog.101.jpg', '/content/drive/My Drive/trainingset/dog.1011.jpg', '/content/drive/My Drive/trainingset/dog.1016.jpg', '/content/drive/My Drive/trainingset/dog.1018.jpg', '/content/drive/My Drive/trainingset/dog.102.jpg', '/content/drive/My Drive/trainingset/dog.1024.jpg', '/content/drive/My Drive/trainingset/dog.1026.jpg', '/content/drive/My Drive/trainingset/dog.1030.jpg', '/content/drive/My Drive/trainingset/dog.1036.jpg', '/content/drive/My Drive/trainingset/dog.1053.jpg', '/content/drive/My Drive/trainingset/dog.1054.jpg', '/content/drive/My Drive/trainingset/dog.1060.jpg', '/content/drive/My Drive/trainingset/dog.1066.jpg', '/content/drive/My Drive/trainingset/dog.1067.jpg', '/content/drive/My Drive/trainingset/dog.1074.jpg', '/content/drive/My Drive/trainingset/dog.1078.jpg', '/content/drive/My Drive/trainingset/dog.1084.jpg', '/content/drive/My Drive/trainingset/dog.1103.jpg', '/content/drive/My Drive/trainingset/dog.1106.jpg']\n",
            "Number of files in testing set:  6\n",
            "List of files the first 3 in the folder:\n",
            " ['/content/drive/My Drive/testset/cat.1032.jpg', '/content/drive/My Drive/testset/cat.1040.jpg', '/content/drive/My Drive/testset/cat.1142.jpg', '/content/drive/My Drive/testset/dog.1044.jpg', '/content/drive/My Drive/testset/dog.1049.jpg', '/content/drive/My Drive/testset/dog.1118.jpg']\n",
            "Original size (188, 250, 3)\n",
            "RESIZED (50, 50, 3)\n",
            "Length of image list:  40\n",
            "Original size (166, 250, 3)\n",
            "RESIZED (50, 50, 3)\n",
            "Length of image list:  6\n"
          ],
          "name": "stdout"
        }
      ]
    },
    {
      "cell_type": "code",
      "metadata": {
        "id": "Stq7uMPmhycG",
        "colab": {
          "base_uri": "https://localhost:8080/",
          "height": 1000
        },
        "outputId": "f0b05a55-fc1b-4192-9aea-4a26a48f7efd"
      },
      "source": [
        "X_training"
      ],
      "execution_count": null,
      "outputs": [
        {
          "output_type": "execute_result",
          "data": {
            "text/plain": [
              "array([[[[0.19607843, 0.24705882, 0.23921569],\n",
              "         [0.20392157, 0.25490198, 0.24705882],\n",
              "         [0.21568628, 0.25882354, 0.2509804 ],\n",
              "         ...,\n",
              "         [0.34901962, 0.27450982, 0.16862746],\n",
              "         [0.23529412, 0.20392157, 0.14901961],\n",
              "         [0.01960784, 0.05490196, 0.08627451]],\n",
              "\n",
              "        [[0.1764706 , 0.24705882, 0.2509804 ],\n",
              "         [0.18039216, 0.2509804 , 0.25490198],\n",
              "         [0.21176471, 0.2627451 , 0.27058825],\n",
              "         ...,\n",
              "         [0.3647059 , 0.2901961 , 0.18431373],\n",
              "         [0.3019608 , 0.24705882, 0.15294118],\n",
              "         [0.03921569, 0.04313726, 0.03137255]],\n",
              "\n",
              "        [[0.01960784, 0.07058824, 0.09803922],\n",
              "         [0.01176471, 0.0627451 , 0.09411765],\n",
              "         [0.01176471, 0.07450981, 0.1254902 ],\n",
              "         ...,\n",
              "         [0.3647059 , 0.28235295, 0.17254902],\n",
              "         [0.3019608 , 0.23529412, 0.12941177],\n",
              "         [0.05490196, 0.03529412, 0.03137255]],\n",
              "\n",
              "        ...,\n",
              "\n",
              "        [[0.        , 0.04313726, 0.05882353],\n",
              "         [0.        , 0.03921569, 0.05490196],\n",
              "         [0.3137255 , 0.27450982, 0.2       ],\n",
              "         ...,\n",
              "         [0.16470589, 0.12156863, 0.08235294],\n",
              "         [0.36078432, 0.26666668, 0.16470589],\n",
              "         [0.20784314, 0.13725491, 0.03137255]],\n",
              "\n",
              "        [[0.00392157, 0.04705882, 0.0627451 ],\n",
              "         [0.00784314, 0.05098039, 0.06666667],\n",
              "         [0.40784314, 0.30980393, 0.1882353 ],\n",
              "         ...,\n",
              "         [0.3882353 , 0.2784314 , 0.16078432],\n",
              "         [0.41568628, 0.2901961 , 0.14901961],\n",
              "         [0.29411766, 0.23529412, 0.13333334]],\n",
              "\n",
              "        [[0.        , 0.04313726, 0.05882353],\n",
              "         [0.00392157, 0.04705882, 0.0627451 ],\n",
              "         [0.41568628, 0.30588236, 0.17254902],\n",
              "         ...,\n",
              "         [0.4117647 , 0.29803923, 0.15294118],\n",
              "         [0.38431373, 0.28235295, 0.13725491],\n",
              "         [0.34509805, 0.24313726, 0.1764706 ]]],\n",
              "\n",
              "\n",
              "       [[[0.5882353 , 0.6117647 , 0.6313726 ],\n",
              "         [0.60784316, 0.6313726 , 0.6509804 ],\n",
              "         [0.61960787, 0.654902  , 0.67058825],\n",
              "         ...,\n",
              "         [0.22352941, 0.22745098, 0.21960784],\n",
              "         [0.2901961 , 0.29803923, 0.27058825],\n",
              "         [0.18039216, 0.18039216, 0.18431373]],\n",
              "\n",
              "        [[0.5921569 , 0.6156863 , 0.63529414],\n",
              "         [0.60784316, 0.6313726 , 0.6509804 ],\n",
              "         [0.6156863 , 0.6509804 , 0.6666667 ],\n",
              "         ...,\n",
              "         [0.22745098, 0.23137255, 0.22352941],\n",
              "         [0.23137255, 0.23137255, 0.21960784],\n",
              "         [0.20392157, 0.22352941, 0.1764706 ]],\n",
              "\n",
              "        [[0.6392157 , 0.6862745 , 0.7019608 ],\n",
              "         [0.6509804 , 0.69803923, 0.7176471 ],\n",
              "         [0.6784314 , 0.7254902 , 0.7411765 ],\n",
              "         ...,\n",
              "         [0.21568628, 0.23529412, 0.22745098],\n",
              "         [0.2509804 , 0.27058825, 0.23529412],\n",
              "         [0.2627451 , 0.2509804 , 0.21960784]],\n",
              "\n",
              "        ...,\n",
              "\n",
              "        [[0.36862746, 0.4117647 , 0.40392157],\n",
              "         [0.38039216, 0.42352942, 0.41568628],\n",
              "         [0.49411765, 0.47843137, 0.40784314],\n",
              "         ...,\n",
              "         [0.4627451 , 0.49411765, 0.4627451 ],\n",
              "         [0.50980395, 0.5568628 , 0.5058824 ],\n",
              "         [0.5529412 , 0.57254905, 0.6156863 ]],\n",
              "\n",
              "        [[0.3372549 , 0.38039216, 0.37254903],\n",
              "         [0.35686275, 0.4       , 0.39215687],\n",
              "         [0.39215687, 0.4117647 , 0.40784314],\n",
              "         ...,\n",
              "         [0.43137255, 0.45490196, 0.3372549 ],\n",
              "         [0.42745098, 0.4392157 , 0.43529412],\n",
              "         [0.5137255 , 0.5529412 , 0.6117647 ]],\n",
              "\n",
              "        [[0.35686275, 0.3764706 , 0.37254903],\n",
              "         [0.38431373, 0.40392157, 0.4       ],\n",
              "         [0.39215687, 0.4117647 , 0.40392157],\n",
              "         ...,\n",
              "         [0.50980395, 0.54509807, 0.4627451 ],\n",
              "         [0.4392157 , 0.4392157 , 0.5019608 ],\n",
              "         [0.54509807, 0.60784316, 0.6509804 ]]],\n",
              "\n",
              "\n",
              "       [[[0.84313726, 0.8666667 , 0.8235294 ],\n",
              "         [0.84313726, 0.8666667 , 0.8235294 ],\n",
              "         [0.84313726, 0.8666667 , 0.8235294 ],\n",
              "         ...,\n",
              "         [0.8117647 , 0.83137256, 0.8039216 ],\n",
              "         [0.80784315, 0.83137256, 0.7882353 ],\n",
              "         [0.80784315, 0.83137256, 0.7882353 ]],\n",
              "\n",
              "        [[0.8509804 , 0.8745098 , 0.83137256],\n",
              "         [0.85490197, 0.8784314 , 0.8352941 ],\n",
              "         [0.8509804 , 0.8745098 , 0.83137256],\n",
              "         ...,\n",
              "         [0.81960785, 0.8392157 , 0.8117647 ],\n",
              "         [0.81960785, 0.84313726, 0.8       ],\n",
              "         [0.8117647 , 0.8352941 , 0.7921569 ]],\n",
              "\n",
              "        [[0.85882354, 0.88235295, 0.8392157 ],\n",
              "         [0.85882354, 0.88235295, 0.8392157 ],\n",
              "         [0.85882354, 0.8745098 , 0.85490197],\n",
              "         ...,\n",
              "         [0.81960785, 0.8392157 , 0.8117647 ],\n",
              "         [0.81960785, 0.84313726, 0.8       ],\n",
              "         [0.81960785, 0.84313726, 0.8       ]],\n",
              "\n",
              "        ...,\n",
              "\n",
              "        [[0.99215686, 0.9843137 , 0.9843137 ],\n",
              "         [0.99607843, 0.9882353 , 0.9882353 ],\n",
              "         [0.9882353 , 0.98039216, 0.9764706 ],\n",
              "         ...,\n",
              "         [0.92941177, 0.90588236, 0.9098039 ],\n",
              "         [0.91764706, 0.89411765, 0.8980392 ],\n",
              "         [0.9019608 , 0.89411765, 0.8901961 ]],\n",
              "\n",
              "        [[0.99215686, 0.9843137 , 0.9843137 ],\n",
              "         [0.99215686, 0.9843137 , 0.9843137 ],\n",
              "         [0.9882353 , 0.98039216, 0.9764706 ],\n",
              "         ...,\n",
              "         [0.8392157 , 0.8156863 , 0.81960785],\n",
              "         [0.827451  , 0.8039216 , 0.80784315],\n",
              "         [0.8117647 , 0.7882353 , 0.7921569 ]],\n",
              "\n",
              "        [[0.99215686, 0.9843137 , 0.9843137 ],\n",
              "         [0.99215686, 0.9843137 , 0.9843137 ],\n",
              "         [0.98039216, 0.972549  , 0.96862745],\n",
              "         ...,\n",
              "         [0.8117647 , 0.7882353 , 0.7921569 ],\n",
              "         [0.84313726, 0.81960785, 0.8235294 ],\n",
              "         [0.8156863 , 0.7921569 , 0.79607844]]],\n",
              "\n",
              "\n",
              "       ...,\n",
              "\n",
              "\n",
              "       [[[0.08627451, 0.16470589, 0.08235294],\n",
              "         [0.08235294, 0.10588235, 0.0627451 ],\n",
              "         [0.1882353 , 0.21960784, 0.15686275],\n",
              "         ...,\n",
              "         [0.14117648, 0.34901962, 0.27450982],\n",
              "         [0.1254902 , 0.29803923, 0.21176471],\n",
              "         [0.10980392, 0.1764706 , 0.13725491]],\n",
              "\n",
              "        [[0.09019608, 0.21568628, 0.15294118],\n",
              "         [0.07058824, 0.16078432, 0.11764706],\n",
              "         [0.08235294, 0.16078432, 0.12941177],\n",
              "         ...,\n",
              "         [0.09019608, 0.27450982, 0.18431373],\n",
              "         [0.19607843, 0.35686275, 0.32156864],\n",
              "         [0.30588236, 0.4       , 0.38039216]],\n",
              "\n",
              "        [[0.18431373, 0.27058825, 0.20784314],\n",
              "         [0.20392157, 0.2784314 , 0.21960784],\n",
              "         [0.12941177, 0.19607843, 0.1254902 ],\n",
              "         ...,\n",
              "         [0.15686275, 0.35686275, 0.28235295],\n",
              "         [0.09803922, 0.19215687, 0.23529412],\n",
              "         [0.22352941, 0.8235294 , 0.9019608 ]],\n",
              "\n",
              "        ...,\n",
              "\n",
              "        [[0.16470589, 0.2901961 , 0.16078432],\n",
              "         [0.1254902 , 0.2509804 , 0.1254902 ],\n",
              "         [0.12941177, 0.26666668, 0.16078432],\n",
              "         ...,\n",
              "         [0.0627451 , 0.14509805, 0.09019608],\n",
              "         [0.07058824, 0.08627451, 0.06666667],\n",
              "         [0.08627451, 0.11764706, 0.0627451 ]],\n",
              "\n",
              "        [[0.09019608, 0.18431373, 0.09803922],\n",
              "         [0.15686275, 0.23921569, 0.16470589],\n",
              "         [0.10588235, 0.23529412, 0.1254902 ],\n",
              "         ...,\n",
              "         [0.09411765, 0.21568628, 0.1254902 ],\n",
              "         [0.06666667, 0.14117648, 0.06666667],\n",
              "         [0.09019608, 0.14901961, 0.08627451]],\n",
              "\n",
              "        [[0.12941177, 0.2       , 0.13725491],\n",
              "         [0.13333334, 0.21176471, 0.13725491],\n",
              "         [0.10196079, 0.22745098, 0.12941177],\n",
              "         ...,\n",
              "         [0.04705882, 0.14901961, 0.07843138],\n",
              "         [0.10588235, 0.21568628, 0.11764706],\n",
              "         [0.14509805, 0.25490198, 0.15294118]]],\n",
              "\n",
              "\n",
              "       [[[0.00784314, 0.00784314, 0.03137255],\n",
              "         [0.00784314, 0.00784314, 0.03137255],\n",
              "         [0.02352941, 0.03137255, 0.0627451 ],\n",
              "         ...,\n",
              "         [0.27058825, 0.34117648, 0.45490196],\n",
              "         [0.25490198, 0.30980393, 0.41960785],\n",
              "         [0.23137255, 0.27450982, 0.36078432]],\n",
              "\n",
              "        [[0.00784314, 0.00784314, 0.03137255],\n",
              "         [0.00784314, 0.00784314, 0.03137255],\n",
              "         [0.03921569, 0.03921569, 0.08627451],\n",
              "         ...,\n",
              "         [0.28627452, 0.35686275, 0.47058824],\n",
              "         [0.2784314 , 0.33333334, 0.44313726],\n",
              "         [0.24313726, 0.28627452, 0.37254903]],\n",
              "\n",
              "        [[0.00392157, 0.00392157, 0.02745098],\n",
              "         [0.00784314, 0.00784314, 0.03137255],\n",
              "         [0.04313726, 0.04705882, 0.10196079],\n",
              "         ...,\n",
              "         [0.30588236, 0.38039216, 0.4862745 ],\n",
              "         [0.29411766, 0.34509805, 0.44705883],\n",
              "         [0.27450982, 0.30980393, 0.3882353 ]],\n",
              "\n",
              "        ...,\n",
              "\n",
              "        [[0.06666667, 0.16470589, 0.33333334],\n",
              "         [0.14117648, 0.25490198, 0.44313726],\n",
              "         [0.05882353, 0.06666667, 0.10980392],\n",
              "         ...,\n",
              "         [0.25490198, 0.36078432, 0.49411765],\n",
              "         [0.05490196, 0.14901961, 0.3529412 ],\n",
              "         [0.11764706, 0.17254902, 0.2784314 ]],\n",
              "\n",
              "        [[0.05882353, 0.1764706 , 0.37254903],\n",
              "         [0.01176471, 0.14901961, 0.3647059 ],\n",
              "         [0.10980392, 0.16470589, 0.2901961 ],\n",
              "         ...,\n",
              "         [0.29803923, 0.3529412 , 0.44313726],\n",
              "         [0.1764706 , 0.27058825, 0.4392157 ],\n",
              "         [0.02352941, 0.1254902 , 0.32156864]],\n",
              "\n",
              "        [[0.03529412, 0.08235294, 0.1764706 ],\n",
              "         [0.03921569, 0.07843138, 0.19607843],\n",
              "         [0.02745098, 0.07450981, 0.23921569],\n",
              "         ...,\n",
              "         [0.2627451 , 0.34117648, 0.4627451 ],\n",
              "         [0.21960784, 0.2901961 , 0.40392157],\n",
              "         [0.11372549, 0.2       , 0.3372549 ]]],\n",
              "\n",
              "\n",
              "       [[[0.68235296, 0.6784314 , 0.65882355],\n",
              "         [0.6745098 , 0.6666667 , 0.6509804 ],\n",
              "         [0.7176471 , 0.7058824 , 0.7019608 ],\n",
              "         ...,\n",
              "         [0.9529412 , 0.89411765, 0.90588236],\n",
              "         [0.8392157 , 0.7882353 , 0.79607844],\n",
              "         [0.28235295, 0.2784314 , 0.32156864]],\n",
              "\n",
              "        [[0.62352943, 0.63529414, 0.59607846],\n",
              "         [0.654902  , 0.6509804 , 0.6627451 ],\n",
              "         [0.47058824, 0.4862745 , 0.49019608],\n",
              "         ...,\n",
              "         [0.64705884, 0.6431373 , 0.6431373 ],\n",
              "         [0.99215686, 0.972549  , 0.9764706 ],\n",
              "         [0.43137255, 0.43529412, 0.44313726]],\n",
              "\n",
              "        [[0.21960784, 0.19607843, 0.21960784],\n",
              "         [0.7294118 , 0.72156864, 0.7764706 ],\n",
              "         [0.48235294, 0.4862745 , 0.5019608 ],\n",
              "         ...,\n",
              "         [0.83137256, 0.79607844, 0.8235294 ],\n",
              "         [0.5176471 , 0.53333336, 0.53333336],\n",
              "         [0.44313726, 0.4509804 , 0.45490196]],\n",
              "\n",
              "        ...,\n",
              "\n",
              "        [[0.68235296, 0.7058824 , 0.72156864],\n",
              "         [0.6666667 , 0.64705884, 0.6666667 ],\n",
              "         [0.4       , 0.34509805, 0.32156864],\n",
              "         ...,\n",
              "         [0.52156866, 0.56078434, 0.5686275 ],\n",
              "         [0.5019608 , 0.5529412 , 0.5764706 ],\n",
              "         [0.36862746, 0.41568628, 0.49803922]],\n",
              "\n",
              "        [[0.6313726 , 0.63529414, 0.63529414],\n",
              "         [0.5294118 , 0.5529412 , 0.54509807],\n",
              "         [0.3372549 , 0.29803923, 0.27058825],\n",
              "         ...,\n",
              "         [0.5529412 , 0.57254905, 0.58431375],\n",
              "         [0.5058824 , 0.5372549 , 0.5686275 ],\n",
              "         [0.42745098, 0.47843137, 0.54509807]],\n",
              "\n",
              "        [[0.7411765 , 0.7411765 , 0.74509805],\n",
              "         [0.7529412 , 0.74509805, 0.7490196 ],\n",
              "         [0.60784316, 0.627451  , 0.62352943],\n",
              "         ...,\n",
              "         [0.5254902 , 0.57254905, 0.59607846],\n",
              "         [0.49803922, 0.5294118 , 0.5568628 ],\n",
              "         [0.41568628, 0.44705883, 0.5411765 ]]]], dtype=float32)"
            ]
          },
          "metadata": {
            "tags": []
          },
          "execution_count": 61
        }
      ]
    },
    {
      "cell_type": "code",
      "metadata": {
        "id": "xliZgTSQTgbW"
      },
      "source": [
        "# label = 0 for cats , label = 1 for dogs\n",
        "y_training = np.array([0,0,0,0,0,0,0,0,0,0,0,0,0,0,0,0,0,0,0,0,1,1,1,1,1,1,1,1,1,1,1,1,1,1,1,1,1,1,1,1])\n",
        "y_testing = np.array([0,0,0,1,1,1])"
      ],
      "execution_count": null,
      "outputs": []
    },
    {
      "cell_type": "code",
      "metadata": {
        "id": "hFn8tXKdogmp",
        "colab": {
          "base_uri": "https://localhost:8080/",
          "height": 34
        },
        "outputId": "357c6126-cce9-4bc3-e062-8d9e7383df3d"
      },
      "source": [
        "y_testing"
      ],
      "execution_count": null,
      "outputs": [
        {
          "output_type": "execute_result",
          "data": {
            "text/plain": [
              "array([0, 0, 0, 1, 1, 1])"
            ]
          },
          "metadata": {
            "tags": []
          },
          "execution_count": 63
        }
      ]
    },
    {
      "cell_type": "code",
      "metadata": {
        "id": "bp-ch0wnLoHO"
      },
      "source": [
        "# Reshaping the data\n",
        "X_training = np.reshape(X_training, (X_training.shape[0],-1))\n",
        "X_testing = np.reshape(X_testing, (X_testing.shape[0], -1))"
      ],
      "execution_count": null,
      "outputs": []
    },
    {
      "cell_type": "code",
      "metadata": {
        "id": "_C6gdhvPOnQ7",
        "colab": {
          "base_uri": "https://localhost:8080/",
          "height": 34
        },
        "outputId": "5b484986-6ec5-4796-9b50-ef2196dc7594"
      },
      "source": [
        "# new shapes\n",
        "(X_training.shape, X_testing.shape, y_training.shape, y_testing.shape)"
      ],
      "execution_count": null,
      "outputs": [
        {
          "output_type": "execute_result",
          "data": {
            "text/plain": [
              "((40, 7500), (6, 7500), (40,), (6,))"
            ]
          },
          "metadata": {
            "tags": []
          },
          "execution_count": 65
        }
      ]
    },
    {
      "cell_type": "code",
      "metadata": {
        "id": "LBNalywiOsGe"
      },
      "source": [
        "# calculating means in X_train and X_test\n",
        "sum1 = 0\n",
        "means_train = []\n",
        "for row in X_training:\n",
        "  sum = np.sum(row)\n",
        "  mean_train = sum/len(row)\n",
        "  means_train.append(mean_train) \n",
        "\n",
        "sum2 = 0\n",
        "means_test = []\n",
        "for row in X_testing:\n",
        "  sum = np.sum(row)\n",
        "  mean_test = sum/len(row)\n",
        "  means_test.append(mean_test) \n",
        "\n",
        "\n",
        "\n",
        "\n",
        "\n",
        "\n"
      ],
      "execution_count": null,
      "outputs": []
    },
    {
      "cell_type": "code",
      "metadata": {
        "id": "6z0QDVGNQEKi"
      },
      "source": [
        "# Calculating variance in X_train ans X_test\n",
        "variances_train = []\n",
        "for row in X_training:\n",
        "  variances_train.append(np.var(row))\n",
        "\n",
        "variances_test = []\n",
        "for row in X_testing:\n",
        "  variances_test.append(np.var(row))\n",
        "\n"
      ],
      "execution_count": null,
      "outputs": []
    },
    {
      "cell_type": "code",
      "metadata": {
        "id": "veCcWfoWTMoD",
        "colab": {
          "base_uri": "https://localhost:8080/",
          "height": 282
        },
        "outputId": "e5551695-8292-4ec3-fbb4-449b82f85b0e"
      },
      "source": [
        "#plotting means and variances \n",
        "plt.scatter(means_train,variances_train)"
      ],
      "execution_count": null,
      "outputs": [
        {
          "output_type": "execute_result",
          "data": {
            "text/plain": [
              "<matplotlib.collections.PathCollection at 0x7fe49c64d5f8>"
            ]
          },
          "metadata": {
            "tags": []
          },
          "execution_count": 78
        },
        {
          "output_type": "display_data",
          "data": {
            "image/png": "[encoded data removed]",
            "text/plain": [
              "<Figure size 432x288 with 1 Axes>"
            ]
          },
          "metadata": {
            "tags": [],
            "needs_background": "light"
          }
        }
      ]
    },
    {
      "cell_type": "code",
      "metadata": {
        "id": "xtS32KhNTx-d",
        "colab": {
          "base_uri": "https://localhost:8080/",
          "height": 282
        },
        "outputId": "86a802d1-8940-4ec9-b027-c4d4dcaf5d23"
      },
      "source": [
        "plt.scatter(means_test,variances_test)"
      ],
      "execution_count": null,
      "outputs": [
        {
          "output_type": "execute_result",
          "data": {
            "text/plain": [
              "<matplotlib.collections.PathCollection at 0x7fe49c5a9780>"
            ]
          },
          "metadata": {
            "tags": []
          },
          "execution_count": 79
        },
        {
          "output_type": "display_data",
          "data": {
            "image/png": "[encoded data removed]",
            "text/plain": [
              "<Figure size 432x288 with 1 Axes>"
            ]
          },
          "metadata": {
            "tags": [],
            "needs_background": "light"
          }
        }
      ]
    },
    {
      "cell_type": "code",
      "metadata": {
        "id": "PfEZ-dcseWoE",
        "colab": {
          "base_uri": "https://localhost:8080/",
          "height": 34
        },
        "outputId": "429e764e-efd8-486f-b1aa-a4fb712239db"
      },
      "source": [
        "# combining mean and variance to form a 2 dimensional point for calculating distance\n",
        "featurepoints_train = []\n",
        "for i in range(0,len(means_train)):\n",
        "  featurepoints_train.append((means_train[i],variances_train[i]))\n",
        "\n",
        "featurepoints_test = []\n",
        "for i in range(0,len(means_test)):\n",
        "  featurepoints_test.append((means_test[i],variances_test[i]))\n",
        "len(featurepoints_test)\n",
        "  "
      ],
      "execution_count": null,
      "outputs": [
        {
          "output_type": "execute_result",
          "data": {
            "text/plain": [
              "6"
            ]
          },
          "metadata": {
            "tags": []
          },
          "execution_count": 80
        }
      ]
    },
    {
      "cell_type": "code",
      "metadata": {
        "id": "V4FgTdpT2Z04"
      },
      "source": [
        "# calculate the accuracy\n",
        "def getAccuracy(testSet, predictions):\n",
        "  correct = 0\n",
        "  for x in range(len(testSet)):\n",
        "    if testSet[x] == predictions[x]:\n",
        "      correct += 1\n",
        "  return (correct/float(len(testSet))) * 100.0"
      ],
      "execution_count": null,
      "outputs": []
    },
    {
      "cell_type": "code",
      "metadata": {
        "id": "YVxj1Udzm4af"
      },
      "source": [
        "# Single-Layer Perceptron\n",
        "class Perceptron(object):\n",
        "\n",
        "    def __init__(self, inputs, no_of_iterations=500, learning_rate=0.01):\n",
        "        self.no_of_iterations = no_of_iterations\n",
        "        self.learning_rate = learning_rate\n",
        "        self.weights = np.zeros(inputs + 1)\n",
        "           \n",
        "    def predict(self, inputs):\n",
        "        sum = self.weights[0]\n",
        "        for i in range(len(inputs)-1):\n",
        "          sum += self.weights[i + 1] * inputs[i]\n",
        "        if sum > 0:\n",
        "          activation = 1\n",
        "        else:\n",
        "          activation = 0            \n",
        "        return activation\n",
        "\n",
        "    def train(self, training_inputs, labels):\n",
        "        for _ in range(self.no_of_iterations):\n",
        "            for inputs, label in zip(training_inputs, labels):\n",
        "                prediction = self.predict(inputs)\n",
        "                self.weights[1:] += self.learning_rate * (label - prediction) * inputs\n",
        "                self.weights[0] += self.learning_rate * (label - prediction)"
      ],
      "execution_count": null,
      "outputs": []
    },
    {
      "cell_type": "code",
      "metadata": {
        "id": "iFvbR1B6SwVE"
      },
      "source": [
        "# creating object of Perceptron class\n",
        "percep = Perceptron(inputs = 7500)\n",
        "percep.train(X_training,y_training)\n",
        "\n",
        "\n",
        "# make predictions on the testing data\n",
        "def prediction(trained):\n",
        "  predictions_slp = [] \n",
        "  for x in range (len(X_testing)):\n",
        "    predictions_slp.append(trained.predict(X_testing[x]))\n",
        "  return predictions_slp"
      ],
      "execution_count": null,
      "outputs": []
    },
    {
      "cell_type": "code",
      "metadata": {
        "id": "5UUxLVjJTkw-"
      },
      "source": [
        "predictions_new = prediction(percep)"
      ],
      "execution_count": null,
      "outputs": []
    },
    {
      "cell_type": "code",
      "metadata": {
        "id": "JwxClSnNVkp5",
        "colab": {
          "base_uri": "https://localhost:8080/",
          "height": 34
        },
        "outputId": "84a3e471-d9c2-4d03-f76d-2532c3469f2b"
      },
      "source": [
        "# accuracy of the predictions from the single layer perceptron\n",
        "accuracy = getAccuracy(y_testing,predictions_new)\n",
        "accuracy"
      ],
      "execution_count": null,
      "outputs": [
        {
          "output_type": "execute_result",
          "data": {
            "text/plain": [
              "0.0"
            ]
          },
          "metadata": {
            "tags": []
          },
          "execution_count": 75
        }
      ]
    },
    {
      "cell_type": "markdown",
      "metadata": {
        "id": "lilBhRGd_XTG"
      },
      "source": [
        "So, the accuracy that we obtain for the test set is 50% \n"
      ]
    },
    {
      "cell_type": "code",
      "metadata": {
        "id": "kVTwxTFH_hc2"
      },
      "source": [
        ""
      ],
      "execution_count": null,
      "outputs": []
    }
  ]
}