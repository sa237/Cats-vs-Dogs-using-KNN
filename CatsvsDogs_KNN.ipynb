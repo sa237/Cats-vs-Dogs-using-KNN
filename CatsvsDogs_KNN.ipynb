{
  "nbformat": 4,
  "nbformat_minor": 0,
  "metadata": {
    "colab": {
      "name": "CatsvsDogs_KNN.ipynb",
      "provenance": []
    },
    "kernelspec": {
      "name": "python3",
      "display_name": "Python 3"
    }
  },
  "cells": [
    {
      "cell_type": "code",
      "metadata": {
        "id": "3wDc-aupAYiR",
        "colab": {
          "base_uri": "https://localhost:8080/"
        },
        "outputId": "e3009933-a25d-4527-cec9-381b2db5db97"
      },
      "source": [
        "import os\n",
        "import numpy as np\n",
        "import matplotlib.pyplot as plt\n",
        "import cv2\n",
        "from google.colab import drive\n",
        "\n",
        "# Accessing My Google Drive\n",
        "drive.mount('/content/drive')"
      ],
      "execution_count": null,
      "outputs": [
        {
          "output_type": "stream",
          "text": [
            "Drive already mounted at /content/drive; to attempt to forcibly remount, call drive.mount(\"/content/drive\", force_remount=True).\n"
          ],
          "name": "stdout"
        }
      ]
    },
    {
      "cell_type": "code",
      "metadata": {
        "id": "dz1U46xxApRx"
      },
      "source": [
        "# defining path of the drive wih the files\n",
        "image_path = \"/content/drive/My Drive\"\n",
        "\n",
        "def loadTrainImages(path):\n",
        "    train_files = sorted([os.path.join(path, 'trainingset', file)\n",
        "                          for file in os.listdir(path + '/trainingset')\n",
        "                          if file.endswith('.jpg')])\n",
        "    return train_files\n",
        "def loadTestImages(path):\n",
        "    test_files = sorted([os.path.join(path, 'testset', file)\n",
        "                          for file in os.listdir(path + '/testset')\n",
        "                          if file.endswith('.jpg')])\n",
        "    return test_files"
      ],
      "execution_count": null,
      "outputs": []
    },
    {
      "cell_type": "code",
      "metadata": {
        "id": "pFXq6lBJAwPw"
      },
      "source": [
        "# Preprocessing of the image data\n",
        "import tensorflow as tf\n",
        "def processing(data):\n",
        "    \n",
        "    # Reading images \n",
        "    img = [cv2.imread(i, cv2.COLOR_BAYER_BG2GRAY) for i in data]\n",
        "    print('Original size',img[0].shape)\n",
        "    \n",
        "    # resizing the images\n",
        "    height = 50\n",
        "    width = 50\n",
        "    dim = (width, height)\n",
        "    res_img = []\n",
        "    for i in range(len(img)):\n",
        "        res = cv2.resize(img[i], dim, interpolation=cv2.INTER_LINEAR)\n",
        "        res = tf.keras.preprocessing.image.img_to_array(res)\n",
        "        res = res/255\n",
        "        res_img.append(res)\n",
        "    \n",
        "  \n",
        "\n",
        "    X = np.array(res_img)\n",
        "    return X"
      ],
      "execution_count": null,
      "outputs": []
    },
    {
      "cell_type": "code",
      "metadata": {
        "id": "uVFtf7mYA05L",
        "colab": {
          "base_uri": "https://localhost:8080/"
        },
        "outputId": "52cdd5e7-cf25-4e37-e246-0087ed4abc6f"
      },
      "source": [
        "def main():\n",
        "    # calling global variable\n",
        "    global image_path\n",
        "    global X_training\n",
        "    global X_testing\n",
        "  \n",
        "    X_train = loadTrainImages(image_path) # path to the Training set of the datset directory \n",
        "    X_test = loadTestImages(image_path)   # path to the Testing set of the dataset directory\n",
        "    print('Number of files in training set: ', len(X_train))\n",
        "    print(\"List of files in the folder:\\n\",X_train[:40])\n",
        "    print('Number of files in testing set: ', len(X_test))\n",
        "    print(\"List of files in the folder:\\n\",X_test[:6])\n",
        "    \n",
        "    # sending all the images to pre-processing\n",
        "    X_training = processing(X_train)\n",
        "    X_testing = processing(X_test)\n",
        "\n",
        "   \n",
        "main()\n",
        "X_training"
      ],
      "execution_count": null,
      "outputs": [
        {
          "output_type": "stream",
          "text": [
            "Number of files in training set:  40\n",
            "List of files in the folder:\n",
            " ['/content/drive/My Drive/trainingset/Cat (10).jpg', '/content/drive/My Drive/trainingset/Cat (11).jpg', '/content/drive/My Drive/trainingset/Cat (12).jpg', '/content/drive/My Drive/trainingset/Cat (13).jpg', '/content/drive/My Drive/trainingset/Cat (14).jpg', '/content/drive/My Drive/trainingset/Cat (15).jpg', '/content/drive/My Drive/trainingset/Cat (16).jpg', '/content/drive/My Drive/trainingset/Cat (17).jpg', '/content/drive/My Drive/trainingset/Cat (18).jpg', '/content/drive/My Drive/trainingset/Cat (19).jpg', '/content/drive/My Drive/trainingset/Cat (2).jpg', '/content/drive/My Drive/trainingset/Cat (3).jpg', '/content/drive/My Drive/trainingset/Cat (4).jpg', '/content/drive/My Drive/trainingset/Cat (5).jpg', '/content/drive/My Drive/trainingset/Cat (6).jpg', '/content/drive/My Drive/trainingset/Cat (7).jpg', '/content/drive/My Drive/trainingset/Cat (8).jpg', '/content/drive/My Drive/trainingset/Cat (9).jpg', '/content/drive/My Drive/trainingset/Cat.jpg', '/content/drive/My Drive/trainingset/Cat1.jpg', '/content/drive/My Drive/trainingset/dog.1003.jpg', '/content/drive/My Drive/trainingset/dog.101.jpg', '/content/drive/My Drive/trainingset/dog.1011.jpg', '/content/drive/My Drive/trainingset/dog.1016.jpg', '/content/drive/My Drive/trainingset/dog.1018.jpg', '/content/drive/My Drive/trainingset/dog.102.jpg', '/content/drive/My Drive/trainingset/dog.1024.jpg', '/content/drive/My Drive/trainingset/dog.1026.jpg', '/content/drive/My Drive/trainingset/dog.1030.jpg', '/content/drive/My Drive/trainingset/dog.1036.jpg', '/content/drive/My Drive/trainingset/dog.1053.jpg', '/content/drive/My Drive/trainingset/dog.1054.jpg', '/content/drive/My Drive/trainingset/dog.1060.jpg', '/content/drive/My Drive/trainingset/dog.1066.jpg', '/content/drive/My Drive/trainingset/dog.1067.jpg', '/content/drive/My Drive/trainingset/dog.1074.jpg', '/content/drive/My Drive/trainingset/dog.1078.jpg', '/content/drive/My Drive/trainingset/dog.1084.jpg', '/content/drive/My Drive/trainingset/dog.1103.jpg', '/content/drive/My Drive/trainingset/dog.1106.jpg']\n",
            "Number of files in testing set:  6\n",
            "List of files in the folder:\n",
            " ['/content/drive/My Drive/testset/cat.1032.jpg', '/content/drive/My Drive/testset/cat.1040.jpg', '/content/drive/My Drive/testset/cat.1142.jpg', '/content/drive/My Drive/testset/dog.1044.jpg', '/content/drive/My Drive/testset/dog.1049.jpg', '/content/drive/My Drive/testset/dog.1118.jpg']\n",
            "Original size (188, 250, 3)\n",
            "Original size (166, 250, 3)\n"
          ],
          "name": "stdout"
        },
        {
          "output_type": "execute_result",
          "data": {
            "text/plain": [
              "array([[[[0.19607843, 0.24705882, 0.23921569],\n",
              "         [0.20392157, 0.25490198, 0.24705882],\n",
              "         [0.21568628, 0.25882354, 0.2509804 ],\n",
              "         ...,\n",
              "         [0.34901962, 0.27450982, 0.16862746],\n",
              "         [0.23529412, 0.20392157, 0.14901961],\n",
              "         [0.01960784, 0.05490196, 0.08627451]],\n",
              "\n",
              "        [[0.1764706 , 0.24705882, 0.2509804 ],\n",
              "         [0.18039216, 0.2509804 , 0.25490198],\n",
              "         [0.21176471, 0.2627451 , 0.27058825],\n",
              "         ...,\n",
              "         [0.3647059 , 0.2901961 , 0.18431373],\n",
              "         [0.3019608 , 0.24705882, 0.15294118],\n",
              "         [0.03921569, 0.04313726, 0.03137255]],\n",
              "\n",
              "        [[0.01960784, 0.07058824, 0.09803922],\n",
              "         [0.01176471, 0.0627451 , 0.09411765],\n",
              "         [0.01176471, 0.07450981, 0.1254902 ],\n",
              "         ...,\n",
              "         [0.3647059 , 0.28235295, 0.17254902],\n",
              "         [0.3019608 , 0.23529412, 0.12941177],\n",
              "         [0.05490196, 0.03529412, 0.03137255]],\n",
              "\n",
              "        ...,\n",
              "\n",
              "        [[0.        , 0.04313726, 0.05882353],\n",
              "         [0.        , 0.03921569, 0.05490196],\n",
              "         [0.3137255 , 0.27450982, 0.2       ],\n",
              "         ...,\n",
              "         [0.16470589, 0.12156863, 0.08235294],\n",
              "         [0.36078432, 0.26666668, 0.16470589],\n",
              "         [0.20784314, 0.13725491, 0.03137255]],\n",
              "\n",
              "        [[0.00392157, 0.04705882, 0.0627451 ],\n",
              "         [0.00784314, 0.05098039, 0.06666667],\n",
              "         [0.40784314, 0.30980393, 0.1882353 ],\n",
              "         ...,\n",
              "         [0.3882353 , 0.2784314 , 0.16078432],\n",
              "         [0.41568628, 0.2901961 , 0.14901961],\n",
              "         [0.29411766, 0.23529412, 0.13333334]],\n",
              "\n",
              "        [[0.        , 0.04313726, 0.05882353],\n",
              "         [0.00392157, 0.04705882, 0.0627451 ],\n",
              "         [0.41568628, 0.30588236, 0.17254902],\n",
              "         ...,\n",
              "         [0.4117647 , 0.29803923, 0.15294118],\n",
              "         [0.38431373, 0.28235295, 0.13725491],\n",
              "         [0.34509805, 0.24313726, 0.1764706 ]]],\n",
              "\n",
              "\n",
              "       [[[0.5882353 , 0.6117647 , 0.6313726 ],\n",
              "         [0.60784316, 0.6313726 , 0.6509804 ],\n",
              "         [0.61960787, 0.654902  , 0.67058825],\n",
              "         ...,\n",
              "         [0.22352941, 0.22745098, 0.21960784],\n",
              "         [0.2901961 , 0.29803923, 0.27058825],\n",
              "         [0.18039216, 0.18039216, 0.18431373]],\n",
              "\n",
              "        [[0.5921569 , 0.6156863 , 0.63529414],\n",
              "         [0.60784316, 0.6313726 , 0.6509804 ],\n",
              "         [0.6156863 , 0.6509804 , 0.6666667 ],\n",
              "         ...,\n",
              "         [0.22745098, 0.23137255, 0.22352941],\n",
              "         [0.23137255, 0.23137255, 0.21960784],\n",
              "         [0.20392157, 0.22352941, 0.1764706 ]],\n",
              "\n",
              "        [[0.6392157 , 0.6862745 , 0.7019608 ],\n",
              "         [0.6509804 , 0.69803923, 0.7176471 ],\n",
              "         [0.6784314 , 0.7254902 , 0.7411765 ],\n",
              "         ...,\n",
              "         [0.21568628, 0.23529412, 0.22745098],\n",
              "         [0.2509804 , 0.27058825, 0.23529412],\n",
              "         [0.2627451 , 0.2509804 , 0.21960784]],\n",
              "\n",
              "        ...,\n",
              "\n",
              "        [[0.36862746, 0.4117647 , 0.40392157],\n",
              "         [0.38039216, 0.42352942, 0.41568628],\n",
              "         [0.49411765, 0.47843137, 0.40784314],\n",
              "         ...,\n",
              "         [0.4627451 , 0.49411765, 0.4627451 ],\n",
              "         [0.50980395, 0.5568628 , 0.5058824 ],\n",
              "         [0.5529412 , 0.57254905, 0.6156863 ]],\n",
              "\n",
              "        [[0.3372549 , 0.38039216, 0.37254903],\n",
              "         [0.35686275, 0.4       , 0.39215687],\n",
              "         [0.39215687, 0.4117647 , 0.40784314],\n",
              "         ...,\n",
              "         [0.43137255, 0.45490196, 0.3372549 ],\n",
              "         [0.42745098, 0.4392157 , 0.43529412],\n",
              "         [0.5137255 , 0.5529412 , 0.6117647 ]],\n",
              "\n",
              "        [[0.35686275, 0.3764706 , 0.37254903],\n",
              "         [0.38431373, 0.40392157, 0.4       ],\n",
              "         [0.39215687, 0.4117647 , 0.40392157],\n",
              "         ...,\n",
              "         [0.50980395, 0.54509807, 0.4627451 ],\n",
              "         [0.4392157 , 0.4392157 , 0.5019608 ],\n",
              "         [0.54509807, 0.60784316, 0.6509804 ]]],\n",
              "\n",
              "\n",
              "       [[[0.84313726, 0.8666667 , 0.8235294 ],\n",
              "         [0.84313726, 0.8666667 , 0.8235294 ],\n",
              "         [0.84313726, 0.8666667 , 0.8235294 ],\n",
              "         ...,\n",
              "         [0.8117647 , 0.83137256, 0.8039216 ],\n",
              "         [0.80784315, 0.83137256, 0.7882353 ],\n",
              "         [0.80784315, 0.83137256, 0.7882353 ]],\n",
              "\n",
              "        [[0.8509804 , 0.8745098 , 0.83137256],\n",
              "         [0.85490197, 0.8784314 , 0.8352941 ],\n",
              "         [0.8509804 , 0.8745098 , 0.83137256],\n",
              "         ...,\n",
              "         [0.81960785, 0.8392157 , 0.8117647 ],\n",
              "         [0.81960785, 0.84313726, 0.8       ],\n",
              "         [0.8117647 , 0.8352941 , 0.7921569 ]],\n",
              "\n",
              "        [[0.85882354, 0.88235295, 0.8392157 ],\n",
              "         [0.85882354, 0.88235295, 0.8392157 ],\n",
              "         [0.85882354, 0.8745098 , 0.85490197],\n",
              "         ...,\n",
              "         [0.81960785, 0.8392157 , 0.8117647 ],\n",
              "         [0.81960785, 0.84313726, 0.8       ],\n",
              "         [0.81960785, 0.84313726, 0.8       ]],\n",
              "\n",
              "        ...,\n",
              "\n",
              "        [[0.99215686, 0.9843137 , 0.9843137 ],\n",
              "         [0.99607843, 0.9882353 , 0.9882353 ],\n",
              "         [0.9882353 , 0.98039216, 0.9764706 ],\n",
              "         ...,\n",
              "         [0.92941177, 0.90588236, 0.9098039 ],\n",
              "         [0.91764706, 0.89411765, 0.8980392 ],\n",
              "         [0.9019608 , 0.89411765, 0.8901961 ]],\n",
              "\n",
              "        [[0.99215686, 0.9843137 , 0.9843137 ],\n",
              "         [0.99215686, 0.9843137 , 0.9843137 ],\n",
              "         [0.9882353 , 0.98039216, 0.9764706 ],\n",
              "         ...,\n",
              "         [0.8392157 , 0.8156863 , 0.81960785],\n",
              "         [0.827451  , 0.8039216 , 0.80784315],\n",
              "         [0.8117647 , 0.7882353 , 0.7921569 ]],\n",
              "\n",
              "        [[0.99215686, 0.9843137 , 0.9843137 ],\n",
              "         [0.99215686, 0.9843137 , 0.9843137 ],\n",
              "         [0.98039216, 0.972549  , 0.96862745],\n",
              "         ...,\n",
              "         [0.8117647 , 0.7882353 , 0.7921569 ],\n",
              "         [0.84313726, 0.81960785, 0.8235294 ],\n",
              "         [0.8156863 , 0.7921569 , 0.79607844]]],\n",
              "\n",
              "\n",
              "       ...,\n",
              "\n",
              "\n",
              "       [[[0.08627451, 0.16470589, 0.08235294],\n",
              "         [0.08235294, 0.10588235, 0.0627451 ],\n",
              "         [0.1882353 , 0.21960784, 0.15686275],\n",
              "         ...,\n",
              "         [0.14117648, 0.34901962, 0.27450982],\n",
              "         [0.1254902 , 0.29803923, 0.21176471],\n",
              "         [0.10980392, 0.1764706 , 0.13725491]],\n",
              "\n",
              "        [[0.09019608, 0.21568628, 0.15294118],\n",
              "         [0.07058824, 0.16078432, 0.11764706],\n",
              "         [0.08235294, 0.16078432, 0.12941177],\n",
              "         ...,\n",
              "         [0.09019608, 0.27450982, 0.18431373],\n",
              "         [0.19607843, 0.35686275, 0.32156864],\n",
              "         [0.30588236, 0.4       , 0.38039216]],\n",
              "\n",
              "        [[0.18431373, 0.27058825, 0.20784314],\n",
              "         [0.20392157, 0.2784314 , 0.21960784],\n",
              "         [0.12941177, 0.19607843, 0.1254902 ],\n",
              "         ...,\n",
              "         [0.15686275, 0.35686275, 0.28235295],\n",
              "         [0.09803922, 0.19215687, 0.23529412],\n",
              "         [0.22352941, 0.8235294 , 0.9019608 ]],\n",
              "\n",
              "        ...,\n",
              "\n",
              "        [[0.16470589, 0.2901961 , 0.16078432],\n",
              "         [0.1254902 , 0.2509804 , 0.1254902 ],\n",
              "         [0.12941177, 0.26666668, 0.16078432],\n",
              "         ...,\n",
              "         [0.0627451 , 0.14509805, 0.09019608],\n",
              "         [0.07058824, 0.08627451, 0.06666667],\n",
              "         [0.08627451, 0.11764706, 0.0627451 ]],\n",
              "\n",
              "        [[0.09019608, 0.18431373, 0.09803922],\n",
              "         [0.15686275, 0.23921569, 0.16470589],\n",
              "         [0.10588235, 0.23529412, 0.1254902 ],\n",
              "         ...,\n",
              "         [0.09411765, 0.21568628, 0.1254902 ],\n",
              "         [0.06666667, 0.14117648, 0.06666667],\n",
              "         [0.09019608, 0.14901961, 0.08627451]],\n",
              "\n",
              "        [[0.12941177, 0.2       , 0.13725491],\n",
              "         [0.13333334, 0.21176471, 0.13725491],\n",
              "         [0.10196079, 0.22745098, 0.12941177],\n",
              "         ...,\n",
              "         [0.04705882, 0.14901961, 0.07843138],\n",
              "         [0.10588235, 0.21568628, 0.11764706],\n",
              "         [0.14509805, 0.25490198, 0.15294118]]],\n",
              "\n",
              "\n",
              "       [[[0.00784314, 0.00784314, 0.03137255],\n",
              "         [0.00784314, 0.00784314, 0.03137255],\n",
              "         [0.02352941, 0.03137255, 0.0627451 ],\n",
              "         ...,\n",
              "         [0.27058825, 0.34117648, 0.45490196],\n",
              "         [0.25490198, 0.30980393, 0.41960785],\n",
              "         [0.23137255, 0.27450982, 0.36078432]],\n",
              "\n",
              "        [[0.00784314, 0.00784314, 0.03137255],\n",
              "         [0.00784314, 0.00784314, 0.03137255],\n",
              "         [0.03921569, 0.03921569, 0.08627451],\n",
              "         ...,\n",
              "         [0.28627452, 0.35686275, 0.47058824],\n",
              "         [0.2784314 , 0.33333334, 0.44313726],\n",
              "         [0.24313726, 0.28627452, 0.37254903]],\n",
              "\n",
              "        [[0.00392157, 0.00392157, 0.02745098],\n",
              "         [0.00784314, 0.00784314, 0.03137255],\n",
              "         [0.04313726, 0.04705882, 0.10196079],\n",
              "         ...,\n",
              "         [0.30588236, 0.38039216, 0.4862745 ],\n",
              "         [0.29411766, 0.34509805, 0.44705883],\n",
              "         [0.27450982, 0.30980393, 0.3882353 ]],\n",
              "\n",
              "        ...,\n",
              "\n",
              "        [[0.06666667, 0.16470589, 0.33333334],\n",
              "         [0.14117648, 0.25490198, 0.44313726],\n",
              "         [0.05882353, 0.06666667, 0.10980392],\n",
              "         ...,\n",
              "         [0.25490198, 0.36078432, 0.49411765],\n",
              "         [0.05490196, 0.14901961, 0.3529412 ],\n",
              "         [0.11764706, 0.17254902, 0.2784314 ]],\n",
              "\n",
              "        [[0.05882353, 0.1764706 , 0.37254903],\n",
              "         [0.01176471, 0.14901961, 0.3647059 ],\n",
              "         [0.10980392, 0.16470589, 0.2901961 ],\n",
              "         ...,\n",
              "         [0.29803923, 0.3529412 , 0.44313726],\n",
              "         [0.1764706 , 0.27058825, 0.4392157 ],\n",
              "         [0.02352941, 0.1254902 , 0.32156864]],\n",
              "\n",
              "        [[0.03529412, 0.08235294, 0.1764706 ],\n",
              "         [0.03921569, 0.07843138, 0.19607843],\n",
              "         [0.02745098, 0.07450981, 0.23921569],\n",
              "         ...,\n",
              "         [0.2627451 , 0.34117648, 0.4627451 ],\n",
              "         [0.21960784, 0.2901961 , 0.40392157],\n",
              "         [0.11372549, 0.2       , 0.3372549 ]]],\n",
              "\n",
              "\n",
              "       [[[0.68235296, 0.6784314 , 0.65882355],\n",
              "         [0.6745098 , 0.6666667 , 0.6509804 ],\n",
              "         [0.7176471 , 0.7058824 , 0.7019608 ],\n",
              "         ...,\n",
              "         [0.9529412 , 0.89411765, 0.90588236],\n",
              "         [0.8392157 , 0.7882353 , 0.79607844],\n",
              "         [0.28235295, 0.2784314 , 0.32156864]],\n",
              "\n",
              "        [[0.62352943, 0.63529414, 0.59607846],\n",
              "         [0.654902  , 0.6509804 , 0.6627451 ],\n",
              "         [0.47058824, 0.4862745 , 0.49019608],\n",
              "         ...,\n",
              "         [0.64705884, 0.6431373 , 0.6431373 ],\n",
              "         [0.99215686, 0.972549  , 0.9764706 ],\n",
              "         [0.43137255, 0.43529412, 0.44313726]],\n",
              "\n",
              "        [[0.21960784, 0.19607843, 0.21960784],\n",
              "         [0.7294118 , 0.72156864, 0.7764706 ],\n",
              "         [0.48235294, 0.4862745 , 0.5019608 ],\n",
              "         ...,\n",
              "         [0.83137256, 0.79607844, 0.8235294 ],\n",
              "         [0.5176471 , 0.53333336, 0.53333336],\n",
              "         [0.44313726, 0.4509804 , 0.45490196]],\n",
              "\n",
              "        ...,\n",
              "\n",
              "        [[0.68235296, 0.7058824 , 0.72156864],\n",
              "         [0.6666667 , 0.64705884, 0.6666667 ],\n",
              "         [0.4       , 0.34509805, 0.32156864],\n",
              "         ...,\n",
              "         [0.52156866, 0.56078434, 0.5686275 ],\n",
              "         [0.5019608 , 0.5529412 , 0.5764706 ],\n",
              "         [0.36862746, 0.41568628, 0.49803922]],\n",
              "\n",
              "        [[0.6313726 , 0.63529414, 0.63529414],\n",
              "         [0.5294118 , 0.5529412 , 0.54509807],\n",
              "         [0.3372549 , 0.29803923, 0.27058825],\n",
              "         ...,\n",
              "         [0.5529412 , 0.57254905, 0.58431375],\n",
              "         [0.5058824 , 0.5372549 , 0.5686275 ],\n",
              "         [0.42745098, 0.47843137, 0.54509807]],\n",
              "\n",
              "        [[0.7411765 , 0.7411765 , 0.74509805],\n",
              "         [0.7529412 , 0.74509805, 0.7490196 ],\n",
              "         [0.60784316, 0.627451  , 0.62352943],\n",
              "         ...,\n",
              "         [0.5254902 , 0.57254905, 0.59607846],\n",
              "         [0.49803922, 0.5294118 , 0.5568628 ],\n",
              "         [0.41568628, 0.44705883, 0.5411765 ]]]], dtype=float32)"
            ]
          },
          "metadata": {
            "tags": []
          },
          "execution_count": 11
        }
      ]
    },
    {
      "cell_type": "code",
      "metadata": {
        "id": "EhRVP3wcA74F"
      },
      "source": [
        "# label = 0 for cats , label = 1 for dogs\n",
        "y_training = np.array([0,0,0,0,0,0,0,0,0,0,0,0,0,0,0,0,0,0,0,0,1,1,1,1,1,1,1,1,1,1,1,1,1,1,1,1,1,1,1,1])\n",
        "y_testing = np.array([0,0,0,1,1,1])"
      ],
      "execution_count": null,
      "outputs": []
    },
    {
      "cell_type": "code",
      "metadata": {
        "id": "QshN0eUqA_WE"
      },
      "source": [
        "print(len(X_training))"
      ],
      "execution_count": null,
      "outputs": []
    },
    {
      "cell_type": "code",
      "metadata": {
        "id": "Gw515jFoBC5w"
      },
      "source": [
        "y_training"
      ],
      "execution_count": null,
      "outputs": []
    },
    {
      "cell_type": "code",
      "metadata": {
        "id": "7P2s_SVlBErX"
      },
      "source": [
        "# Reshaping the data\n",
        "X_training = np.reshape(X_training, (X_training.shape[0],-1))\n",
        "X_testing = np.reshape(X_testing, (X_testing.shape[0], -1))"
      ],
      "execution_count": null,
      "outputs": []
    },
    {
      "cell_type": "code",
      "metadata": {
        "id": "DoYiFQ9UBHuz"
      },
      "source": [
        "# new shapes\n",
        "(X_training.shape, X_testing.shape, y_training.shape, y_testing.shape)"
      ],
      "execution_count": null,
      "outputs": []
    },
    {
      "cell_type": "code",
      "metadata": {
        "id": "YWI4UqqOBJxY"
      },
      "source": [
        "# calculating means in X_train and X_test\n",
        "sum1 = 0\n",
        "means_train = []\n",
        "for row in X_training:\n",
        "  sum = np.sum(row)\n",
        "  mean_train = sum/len(row)\n",
        "  means_train.append(mean_train) \n",
        "\n",
        "sum2 = 0\n",
        "means_test = []\n",
        "for row in X_testing:\n",
        "  sum = np.sum(row)\n",
        "  mean_test = sum/len(row)\n",
        "  means_test.append(mean_test) "
      ],
      "execution_count": null,
      "outputs": []
    },
    {
      "cell_type": "code",
      "metadata": {
        "id": "RWV1_l0wBMZ3"
      },
      "source": [
        "# Calculating variance in X_train and X_test\n",
        "variances_train = []\n",
        "for row in X_training:\n",
        "  variances_train.append(np.var(row))\n",
        "\n",
        "variances_test = []\n",
        "for row in X_testing:\n",
        "  variances_test.append(np.var(row))\n"
      ],
      "execution_count": null,
      "outputs": []
    },
    {
      "cell_type": "code",
      "metadata": {
        "id": "h0_V9XNfBPvC"
      },
      "source": [
        "#plotting means and variances \n",
        "plt.scatter(means_train,variances_train)"
      ],
      "execution_count": null,
      "outputs": []
    },
    {
      "cell_type": "code",
      "metadata": {
        "id": "db0CENFuBTU6"
      },
      "source": [
        "plt.scatter(means_test,variances_test)"
      ],
      "execution_count": null,
      "outputs": []
    },
    {
      "cell_type": "code",
      "metadata": {
        "id": "H0jfWiKvBVqe"
      },
      "source": [
        "# combining mean and variance to form a 2 dimensional point for calculating distance\n",
        "featurepoints_train = []\n",
        "for i in range(0,len(means_train)):\n",
        "  featurepoints_train.append((means_train[i],variances_train[i]))\n",
        "\n",
        "featurepoints_test = []\n",
        "for i in range(0,len(means_test)):\n",
        "  featurepoints_test.append((means_test[i],variances_test[i]))\n",
        "len(featurepoints_test)"
      ],
      "execution_count": null,
      "outputs": []
    },
    {
      "cell_type": "code",
      "metadata": {
        "id": "CAt_PKTfBZe8"
      },
      "source": [
        "# calculate the Eucledian distance between points\n",
        "import math\n",
        "def distance(test_point,train_point):\n",
        "  distance = math.sqrt( ((train_point[0]-test_point[0])**2)+((train_point[1]-test_point[1])**2) )\n",
        "  return distance"
      ],
      "execution_count": null,
      "outputs": []
    },
    {
      "cell_type": "code",
      "metadata": {
        "id": "SZHz1S6bBcV_"
      },
      "source": [
        "# find the nearest neighbours according to the value of k\n",
        "import operator \n",
        "def getKnns(train, test_point, k):\n",
        "    distances = []\n",
        "    for x in range(len(train)):\n",
        "        dist = distance(test_point, train[x])\n",
        "        distances.append((x, dist))\n",
        "    distances.sort(key=operator.itemgetter(1))\n",
        "    neighbours = []\n",
        "    for x in range(k):\n",
        "        neighbours.append(distances[x][0])\n",
        "    return neighbours"
      ],
      "execution_count": null,
      "outputs": []
    },
    {
      "cell_type": "code",
      "metadata": {
        "id": "vVxF1yHWBe2K"
      },
      "source": [
        "# predict the class of the given image\n",
        "import operator\n",
        "def predictClass(train, test_point, k):\n",
        "  neighbours = getKnns(train, test_point,k)\n",
        "  zero_count = 0\n",
        "  one_count = 0\n",
        "  for x in range(len(neighbours)):\n",
        "    response = y_training[neighbours[x]]\n",
        "    if response == 0:\n",
        "      zero_count +=1\n",
        "    else:\n",
        "      one_count +=1\n",
        "  if zero_count >= one_count:\n",
        "    return 0\n",
        "  else:\n",
        "    return 1 "
      ],
      "execution_count": null,
      "outputs": []
    },
    {
      "cell_type": "code",
      "metadata": {
        "id": "XyNsiTnkBhWH"
      },
      "source": [
        "# calculate the accuracy\n",
        "def getAccuracy(testSet, predictions):\n",
        "  correct = 0\n",
        "  for x in range(len(testSet)):\n",
        "    if testSet[x] == predictions[x]:\n",
        "      correct += 1\n",
        "  return (correct/float(len(testSet))) * 100.0"
      ],
      "execution_count": null,
      "outputs": []
    },
    {
      "cell_type": "markdown",
      "metadata": {
        "id": "zGVR0FQn7Up7"
      },
      "source": [
        "Below is the ocde for accuracy for the values of k = 1 to 20.\n",
        "We obtain the highest value of accuracy = 83.33% at k=7 and k=5"
      ]
    },
    {
      "cell_type": "code",
      "metadata": {
        "id": "iqQo73XbBjn9"
      },
      "source": [
        "# for k=1\n",
        "predictions = []\n",
        "for i in range(len(featurepoints_test)):\n",
        "  predictedClass = predictClass(featurepoints_train,featurepoints_test[i],1)\n",
        "  predictions.append(predictedClass)\n",
        "\n",
        "accuracy = getAccuracy(y_testing,predictions)\n",
        "accuracy"
      ],
      "execution_count": null,
      "outputs": []
    },
    {
      "cell_type": "code",
      "metadata": {
        "id": "qCvOE87hBl3V"
      },
      "source": [
        "# for k=2\n",
        "predictions = []\n",
        "for i in range(len(featurepoints_test)):\n",
        "  predictedClass = predictClass(featurepoints_train,featurepoints_test[i],2)\n",
        "  predictions.append(predictedClass)\n",
        "\n",
        "accuracy = getAccuracy(y_testing,predictions)\n",
        "accuracy"
      ],
      "execution_count": null,
      "outputs": []
    },
    {
      "cell_type": "code",
      "metadata": {
        "id": "KwPa4IQoBqTV"
      },
      "source": [
        "# for k=3\n",
        "predictions = []\n",
        "for i in range(len(featurepoints_test)):\n",
        "  predictedClass = predictClass(featurepoints_train,featurepoints_test[i],3)\n",
        "  predictions.append(predictedClass)\n",
        "\n",
        "accuracy = getAccuracy(y_testing,predictions)\n",
        "accuracy"
      ],
      "execution_count": null,
      "outputs": []
    },
    {
      "cell_type": "code",
      "metadata": {
        "id": "pPvQRkOBBs-9"
      },
      "source": [
        "# for k=4\n",
        "predictions = []\n",
        "for i in range(len(featurepoints_test)):\n",
        "  predictedClass = predictClass(featurepoints_train,featurepoints_test[i],4)\n",
        "  predictions.append(predictedClass)\n",
        "\n",
        "accuracy = getAccuracy(y_testing,predictions)\n",
        "accuracy"
      ],
      "execution_count": null,
      "outputs": []
    },
    {
      "cell_type": "code",
      "metadata": {
        "id": "en0-1fckBvYK"
      },
      "source": [
        "# for k=5\n",
        "predictions = []\n",
        "for i in range(len(featurepoints_test)):\n",
        "  predictedClass = predictClass(featurepoints_train,featurepoints_test[i],5)\n",
        "  predictions.append(predictedClass)\n",
        "\n",
        "accuracy = getAccuracy(y_testing,predictions)\n",
        "accuracy"
      ],
      "execution_count": null,
      "outputs": []
    },
    {
      "cell_type": "code",
      "metadata": {
        "id": "bN3YXAt4Bx4j"
      },
      "source": [
        "# for k=6\n",
        "predictions = []\n",
        "for i in range(len(featurepoints_test)):\n",
        "  predictedClass = predictClass(featurepoints_train,featurepoints_test[i],6)\n",
        "  predictions.append(predictedClass)\n",
        "\n",
        "accuracy = getAccuracy(y_testing,predictions)\n",
        "accuracy"
      ],
      "execution_count": null,
      "outputs": []
    },
    {
      "cell_type": "code",
      "metadata": {
        "id": "QhYJ69jDB0EG"
      },
      "source": [
        "# for k=7\n",
        "predictions = []\n",
        "for i in range(len(featurepoints_test)):\n",
        "  predictedClass = predictClass(featurepoints_train,featurepoints_test[i],7)\n",
        "  predictions.append(predictedClass)\n",
        "\n",
        "accuracy = getAccuracy(y_testing,predictions)\n",
        "accuracy"
      ],
      "execution_count": null,
      "outputs": []
    },
    {
      "cell_type": "code",
      "metadata": {
        "id": "5X71GSMJB163"
      },
      "source": [
        "# for k=8\n",
        "predictions = []\n",
        "for i in range(len(featurepoints_test)):\n",
        "  predictedClass = predictClass(featurepoints_train,featurepoints_test[i],8)\n",
        "  predictions.append(predictedClass)\n",
        "\n",
        "accuracy = getAccuracy(y_testing,predictions)\n",
        "accuracy"
      ],
      "execution_count": null,
      "outputs": []
    },
    {
      "cell_type": "code",
      "metadata": {
        "id": "T_5q0fdtB4Cp"
      },
      "source": [
        "# for k=9\n",
        "predictions = []\n",
        "for i in range(len(featurepoints_test)):\n",
        "  predictedClass = predictClass(featurepoints_train,featurepoints_test[i],9)\n",
        "  predictions.append(predictedClass)\n",
        "\n",
        "accuracy = getAccuracy(y_testing,predictions)\n",
        "accuracy"
      ],
      "execution_count": null,
      "outputs": []
    },
    {
      "cell_type": "code",
      "metadata": {
        "id": "HAPE3mIaB6By"
      },
      "source": [
        "# for k=10\n",
        "predictions = []\n",
        "for i in range(len(featurepoints_test)):\n",
        "  predictedClass = predictClass(featurepoints_train,featurepoints_test[i],10)\n",
        "  predictions.append(predictedClass)\n",
        "\n",
        "accuracy = getAccuracy(y_testing,predictions)\n",
        "accuracy"
      ],
      "execution_count": null,
      "outputs": []
    },
    {
      "cell_type": "code",
      "metadata": {
        "id": "Mhkp8NADB8Kd"
      },
      "source": [
        "# for k=11\n",
        "predictions = []\n",
        "for i in range(len(featurepoints_test)):\n",
        "  predictedClass = predictClass(featurepoints_train,featurepoints_test[i],11)\n",
        "  predictions.append(predictedClass)\n",
        "\n",
        "accuracy = getAccuracy(y_testing,predictions)\n",
        "accuracy"
      ],
      "execution_count": null,
      "outputs": []
    },
    {
      "cell_type": "code",
      "metadata": {
        "id": "u5Bozr3pB_Ff"
      },
      "source": [
        "# for k=12\n",
        "predictions = []\n",
        "for i in range(len(featurepoints_test)):\n",
        "  predictedClass = predictClass(featurepoints_train,featurepoints_test[i],12)\n",
        "  predictions.append(predictedClass)\n",
        "\n",
        "accuracy = getAccuracy(y_testing,predictions)\n",
        "accuracy"
      ],
      "execution_count": null,
      "outputs": []
    },
    {
      "cell_type": "code",
      "metadata": {
        "id": "Wr-1HJcwCBTq"
      },
      "source": [
        "# for k=13\n",
        "predictions = []\n",
        "for i in range(len(featurepoints_test)):\n",
        "  predictedClass = predictClass(featurepoints_train,featurepoints_test[i],13)\n",
        "  predictions.append(predictedClass)\n",
        "\n",
        "accuracy = getAccuracy(y_testing,predictions)\n",
        "accuracy"
      ],
      "execution_count": null,
      "outputs": []
    },
    {
      "cell_type": "code",
      "metadata": {
        "id": "qQ37BfqeCDDF"
      },
      "source": [
        "# for k=14\n",
        "predictions = []\n",
        "for i in range(len(featurepoints_test)):\n",
        "  predictedClass = predictClass(featurepoints_train,featurepoints_test[i],14)\n",
        "  predictions.append(predictedClass)\n",
        "\n",
        "accuracy = getAccuracy(y_testing,predictions)\n",
        "accuracy"
      ],
      "execution_count": null,
      "outputs": []
    },
    {
      "cell_type": "code",
      "metadata": {
        "id": "kI1_4_m8CFBT"
      },
      "source": [
        "# for k=15\n",
        "predictions = []\n",
        "for i in range(len(featurepoints_test)):\n",
        "  predictedClass = predictClass(featurepoints_train,featurepoints_test[i],15)\n",
        "  predictions.append(predictedClass)\n",
        "\n",
        "accuracy = getAccuracy(y_testing,predictions)\n",
        "accuracy"
      ],
      "execution_count": null,
      "outputs": []
    },
    {
      "cell_type": "code",
      "metadata": {
        "id": "-BVYyjveCHax"
      },
      "source": [
        "# for k=16\n",
        "predictions = []\n",
        "for i in range(len(featurepoints_test)):\n",
        "  predictedClass = predictClass(featurepoints_train,featurepoints_test[i],16)\n",
        "  predictions.append(predictedClass)\n",
        "\n",
        "accuracy = getAccuracy(y_testing,predictions)\n",
        "accuracy"
      ],
      "execution_count": null,
      "outputs": []
    },
    {
      "cell_type": "code",
      "metadata": {
        "id": "DUvutbp2CJng"
      },
      "source": [
        "# for k=17\n",
        "predictions = []\n",
        "for i in range(len(featurepoints_test)):\n",
        "  predictedClass = predictClass(featurepoints_train,featurepoints_test[i],17)\n",
        "  predictions.append(predictedClass)\n",
        "\n",
        "accuracy = getAccuracy(y_testing,predictions)\n",
        "accuracy"
      ],
      "execution_count": null,
      "outputs": []
    },
    {
      "cell_type": "code",
      "metadata": {
        "id": "8vOnadjGCLck"
      },
      "source": [
        "# for k=18\n",
        "predictions = []\n",
        "for i in range(len(featurepoints_test)):\n",
        "  predictedClass = predictClass(featurepoints_train,featurepoints_test[i],18)\n",
        "  predictions.append(predictedClass)\n",
        "accuracy = getAccuracy(y_testing,predictions)\n",
        "accuracy"
      ],
      "execution_count": null,
      "outputs": []
    },
    {
      "cell_type": "code",
      "metadata": {
        "id": "Anp1S7QiCO0-"
      },
      "source": [
        "# for k=19\n",
        "predictions = []\n",
        "for i in range(len(featurepoints_test)):\n",
        "  predictedClass = predictClass(featurepoints_train,featurepoints_test[i],19)\n",
        "  predictions.append(predictedClass)\n",
        "accuracy = getAccuracy(y_testing,predictions)\n",
        "accuracy"
      ],
      "execution_count": null,
      "outputs": []
    },
    {
      "cell_type": "code",
      "metadata": {
        "id": "wrfLAfgqCRBn"
      },
      "source": [
        "# for k=20\n",
        "predictions = []\n",
        "for i in range(len(featurepoints_test)):\n",
        "  predictedClass = predictClass(featurepoints_train,featurepoints_test[i],20)\n",
        "  predictions.append(predictedClass)\n",
        "accuracy = getAccuracy(y_testing,predictions)\n",
        "accuracy"
      ],
      "execution_count": null,
      "outputs": []
    },
    {
      "cell_type": "code",
      "metadata": {
        "id": "4huxthcXCTTB"
      },
      "source": [
        ""
      ],
      "execution_count": null,
      "outputs": []
    }
  ]
}